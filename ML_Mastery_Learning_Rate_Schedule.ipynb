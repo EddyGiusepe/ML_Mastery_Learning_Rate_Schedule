{
  "nbformat": 4,
  "nbformat_minor": 0,
  "metadata": {
    "colab": {
      "name": "ML_Mastery_Learning_Rate_Schedule.ipynb",
      "provenance": [],
      "authorship_tag": "ABX9TyMev2zM3/R+87mgIon3tQLV",
      "include_colab_link": true
    },
    "kernelspec": {
      "name": "python3",
      "display_name": "Python 3"
    }
  },
  "cells": [
    {
      "cell_type": "markdown",
      "metadata": {
        "id": "view-in-github",
        "colab_type": "text"
      },
      "source": [
        "<a href=\"https://colab.research.google.com/github/EddyGiusepe/ML_Mastery_Learning_Rate_Schedule/blob/main/ML_Mastery_Learning_Rate_Schedule.ipynb\" target=\"_parent\"><img src=\"https://colab.research.google.com/assets/colab-badge.svg\" alt=\"Open In Colab\"/></a>"
      ]
    },
    {
      "cell_type": "markdown",
      "metadata": {
        "id": "6F1o5p8nuGNK"
      },
      "source": [
        "# **Tabela de taxas de aprendizagem (Learning Rate Schedule)**\r\n",
        "\r\n",
        "Olá, nesta lição, você descobrirá como configurar uma tabela (cronograma) de taxa de aprendizado adaptável \r\n",
        "para ajustar o modelo durante a execução do treinamento.\r\n",
        "\r\n",
        "A quantidade de mudança no modelo durante cada etapa deste processo de pesquisa, ou o tamanho da etapa, \r\n",
        "é chamada de <font color='orange'>taxa de aprendizado</font> e fornece talvez o hiperparâmetro mais importante a ser ajustado para sua rede neural a fim de obter um bom desempenho em seu problema.\r\n",
        "\r\n",
        "Configurar uma taxa de aprendizagem fixa é muito desafiador e requer experimentação cuidadosa. Uma alternativa ao uso de uma **taxa de aprendizado fixa** é variar a taxa de aprendizado ao longo do processo de treinamento.\r\n",
        "\r\n",
        "\r\n",
        "Keras fornece uma tabela de taxa de aprendizado ``ReduceLROnPlateau`` que ajustará a taxa de aprendizado quando um platô no desempenho do modelo for detectado, <font color='orange'>por exemplo</font>, nenhuma mudança para um determinado número de épocas de treinamento. Por exemplo:\r\n",
        "\r\n",
        "### <font color='blue'>define learning rate schedule</font>\r\n",
        "rlrp = ReduceLROnPlateau(monitor='val_loss', factor=0.1, patience=5, min_delta=1E-7, verbose=1)"
      ]
    },
    {
      "cell_type": "markdown",
      "metadata": {
        "id": "R_GiUWf_wJ6X"
      },
      "source": [
        "Esse retorno de chamada foi projetado para reduzir a taxa de aprendizado depois que o modelo para de melhorar, na esperança de ajustar os pesos do modelo durante o treinamento.\r\n",
        "\r\n",
        "\r\n",
        "O exemplo abaixo demonstra um **Perceptron Multicamadas** com um(a) tabela (cronograma) de taxa de aprendizado em um problema de <font color='orange'>classificação binária</font>, onde a taxa de aprendizado será reduzida em uma ordem de magnitude se nenhuma mudança for detectada na perda de validação em $5$ períodos de treinamento."
      ]
    },
    {
      "cell_type": "markdown",
      "metadata": {
        "id": "g7ydhQO2wyq-"
      },
      "source": [
        "### <font color='blue'>Importando a nossas livrarias</font>"
      ]
    },
    {
      "cell_type": "code",
      "metadata": {
        "id": "pJtSEyChuJi2"
      },
      "source": [
        "from sklearn.datasets import make_circles\r\n",
        "from keras.layers import Dense\r\n",
        "from keras.models import Sequential\r\n",
        "from keras.optimizers import SGD\r\n",
        "from keras.callbacks import ReduceLROnPlateau\r\n",
        "from matplotlib import pyplot"
      ],
      "execution_count": 11,
      "outputs": []
    },
    {
      "cell_type": "markdown",
      "metadata": {
        "id": "RK8bwVzVxQMi"
      },
      "source": [
        "### <font color='blue'>Geramos nosso Dataset</font>"
      ]
    },
    {
      "cell_type": "code",
      "metadata": {
        "id": "Wfw2B4MlxMbr"
      },
      "source": [
        "X, y = make_circles(n_samples=1000, noise=0.1, random_state=1)"
      ],
      "execution_count": 12,
      "outputs": []
    },
    {
      "cell_type": "markdown",
      "metadata": {
        "id": "30WgQcFxxbRw"
      },
      "source": [
        "### <font color='blue'>Dividimos em Dados de Treino e Dados de Teste</font>"
      ]
    },
    {
      "cell_type": "code",
      "metadata": {
        "id": "hCxS05H2xZ6K"
      },
      "source": [
        "n_train = 500\r\n",
        "trainX, testX = X[:n_train, :], X[n_train:, :]\r\n",
        "trainy, testy = y[:n_train], y[n_train:]"
      ],
      "execution_count": 13,
      "outputs": []
    },
    {
      "cell_type": "markdown",
      "metadata": {
        "id": "IqahHaJ2xsmP"
      },
      "source": [
        "### <font color='blue'>Construímos nosso modelo</font>"
      ]
    },
    {
      "cell_type": "code",
      "metadata": {
        "id": "XQsY507dxohB"
      },
      "source": [
        "model = Sequential()\r\n",
        "model.add(Dense(50, input_dim=2, activation='relu'))\r\n",
        "model.add(Dense(1, activation='sigmoid'))"
      ],
      "execution_count": 14,
      "outputs": []
    },
    {
      "cell_type": "markdown",
      "metadata": {
        "id": "_Tnk77KyxynS"
      },
      "source": [
        "### <font color='blue'>Compilamos nosso modelo</font>"
      ]
    },
    {
      "cell_type": "code",
      "metadata": {
        "id": "Bd5dG4ogyWtX"
      },
      "source": [
        "opt = SGD(lr=0.01, momentum=0.9)\r\n",
        "model.compile(loss='binary_crossentropy', optimizer=opt, metrics=['accuracy'])"
      ],
      "execution_count": 15,
      "outputs": []
    },
    {
      "cell_type": "markdown",
      "metadata": {
        "id": "o-Z8sNBOyeJ2"
      },
      "source": [
        "### <font color='blue'>Definimos nosso Learning Rate Schedule</font>"
      ]
    },
    {
      "cell_type": "code",
      "metadata": {
        "id": "xT3UQN5Lyboi"
      },
      "source": [
        "rlrp = ReduceLROnPlateau(monitor='val_loss', factor=0.1, patience=5, min_delta=1E-7, verbose=1)"
      ],
      "execution_count": 16,
      "outputs": []
    },
    {
      "cell_type": "markdown",
      "metadata": {
        "id": "CtavIQqBy2Ry"
      },
      "source": [
        "### <font color='blue'>Ajustamos nosso modelo (Fit model)</font>"
      ]
    },
    {
      "cell_type": "code",
      "metadata": {
        "colab": {
          "base_uri": "https://localhost:8080/"
        },
        "id": "xiqIYD5iyzPu",
        "outputId": "8ed4cc4b-87b6-4165-96f8-8b3094914bec"
      },
      "source": [
        "history = model.fit(trainX, trainy, validation_data=(testX, testy),epochs=400,verbose=0,callbacks=[rlrp])"
      ],
      "execution_count": 22,
      "outputs": [
        {
          "output_type": "stream",
          "text": [
            "\n",
            "Epoch 00006: ReduceLROnPlateau reducing learning rate to 9.949219096706202e-45.\n",
            "\n",
            "Epoch 00011: ReduceLROnPlateau reducing learning rate to 9.80908925027372e-46.\n",
            "\n",
            "Epoch 00016: ReduceLROnPlateau reducing learning rate to 1.4012984643248171e-46.\n"
          ],
          "name": "stdout"
        }
      ]
    },
    {
      "cell_type": "markdown",
      "metadata": {
        "id": "iGM78anDy3no"
      },
      "source": [
        "### <font color='blue'>Avaliamos nosso modelo</font>"
      ]
    },
    {
      "cell_type": "code",
      "metadata": {
        "colab": {
          "base_uri": "https://localhost:8080/"
        },
        "id": "yXp5WBjfzUpK",
        "outputId": "97414d74-74ca-49a8-ae47-66a5ea2a85b9"
      },
      "source": [
        "_, train_acc = model.evaluate(trainX, trainy, verbose=1)\r\n",
        "_, test_acc = model.evaluate(testX, testy, verbose=1)"
      ],
      "execution_count": 18,
      "outputs": [
        {
          "output_type": "stream",
          "text": [
            "16/16 [==============================] - 0s 1ms/step - loss: 0.3842 - accuracy: 0.8360\n",
            "16/16 [==============================] - 0s 1ms/step - loss: 0.3746 - accuracy: 0.8540\n"
          ],
          "name": "stdout"
        }
      ]
    },
    {
      "cell_type": "code",
      "metadata": {
        "colab": {
          "base_uri": "https://localhost:8080/"
        },
        "id": "WoYoUimvzep3",
        "outputId": "dab289f9-e5a6-46c8-e60b-3c935e8fa203"
      },
      "source": [
        "print('Train: %.3f, Test: %.3f' % (train_acc, test_acc))"
      ],
      "execution_count": 19,
      "outputs": [
        {
          "output_type": "stream",
          "text": [
            "Train: 0.836, Test: 0.854\n"
          ],
          "name": "stdout"
        }
      ]
    },
    {
      "cell_type": "markdown",
      "metadata": {
        "id": "Zf79Btg-zoYK"
      },
      "source": [
        "### <font color='blue'>Plot loss learning curves</font>"
      ]
    },
    {
      "cell_type": "code",
      "metadata": {
        "colab": {
          "base_uri": "https://localhost:8080/",
          "height": 278
        },
        "id": "NW9GfRdJ0BP-",
        "outputId": "aa48316d-5d39-4995-d7f5-8e5b99d58cf6"
      },
      "source": [
        "# Gráfico das curvas de aprendizagem da função Loss\r\n",
        "\r\n",
        "#pyplot.subplot(211)\r\n",
        "pyplot.title('Cross-Entropy Loss', pad=-40)\r\n",
        "pyplot.plot(history.history['loss'], label='train')\r\n",
        "pyplot.plot(history.history['val_loss'], label='test')\r\n",
        "pyplot.legend()\r\n",
        "pyplot.show()"
      ],
      "execution_count": 20,
      "outputs": [
        {
          "output_type": "display_data",
          "data": {
            "image/png": "[encoded data removed]",
            "text/plain": [
              "<Figure size 432x288 with 1 Axes>"
            ]
          },
          "metadata": {
            "tags": [],
            "needs_background": "light"
          }
        }
      ]
    },
    {
      "cell_type": "markdown",
      "metadata": {
        "id": "OkKqnxLG0V_d"
      },
      "source": [
        "### <font color='blue'>Plot accuracy learning curves</font>"
      ]
    },
    {
      "cell_type": "code",
      "metadata": {
        "colab": {
          "base_uri": "https://localhost:8080/",
          "height": 278
        },
        "id": "NkBLpP830EPa",
        "outputId": "f7db035f-b019-490b-8db9-f10c4b350bb2"
      },
      "source": [
        "# Gráfico das curvas de aprendizagem da precisão (acurácia)\r\n",
        "\r\n",
        "#pyplot.subplot(212)\r\n",
        "pyplot.title('Accuracy', pad=-40)\r\n",
        "pyplot.plot(history.history['accuracy'], label='train')\r\n",
        "pyplot.plot(history.history['val_accuracy'], label='test')\r\n",
        "pyplot.legend()\r\n",
        "pyplot.show()"
      ],
      "execution_count": 21,
      "outputs": [
        {
          "output_type": "display_data",
          "data": {
            "image/png": "[encoded data removed]",
            "text/plain": [
              "<Figure size 432x288 with 1 Axes>"
            ]
          },
          "metadata": {
            "tags": [],
            "needs_background": "light"
          }
        }
      ]
    },
    {
      "cell_type": "markdown",
      "metadata": {
        "id": "RaIeoW0vAeDZ"
      },
      "source": [
        "**Para você:**\r\n",
        "\r\n",
        "Tente executar este código com e sem a **tabela (programação) da taxa de aprendizado** e descrever o efeito que a programação (tabela) da taxa de aprendizado tem nas curvas de aprendizado durante o treinamento."
      ]
    },
    {
      "cell_type": "code",
      "metadata": {
        "id": "0SA5QzNqJSPY"
      },
      "source": [
        ""
      ],
      "execution_count": null,
      "outputs": []
    }
  ]
}